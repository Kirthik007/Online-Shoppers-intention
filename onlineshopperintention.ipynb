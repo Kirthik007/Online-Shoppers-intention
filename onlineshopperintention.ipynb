{
 "cells": [
  {
   "cell_type": "markdown",
   "metadata": {},
   "source": [
    "## ONLINE SHOPPERS PURCHASING INTENTION WITH META DATA:\n",
    "\n",
    "                              by kirthik abinash N\n",
    "The data used in this analysis is an Online Shoppers Purchasing Intention data set provided on the University of California Irvine’s Machine Learning Repository. The data set was formed so that each session would belong to a different user in a 1-year period to avoid any tendency to a specific campaign, special day, user profile, or period.The primary purpose of the data set is to predict the purchasing intentions of a visitor to this particular store’s website. "
   ]
  },
  {
   "cell_type": "markdown",
   "metadata": {},
   "source": [
    "## Column Descriptions:\n",
    "**Administrative:** This is the number of pages of this type (administrative) that the user visited.\n",
    "\n",
    "**Administrative_Duration:** This is the amount of time spent in this category of pages.\n",
    "\n",
    "**Informational:** This is the number of pages of this type (informational) that the user visited.\n",
    "\n",
    "**Informational_Duration:** This is the amount of time spent in this category of pages.\n",
    "\n",
    "**ProductRelated:** This is the number of pages of this type (product related) that the user visited.\n",
    "\n",
    "**PageValues:** The average value of the page averaged over the value of the target page and/or the completion of an eCommerce transaction.\n",
    "\n",
    "**SpecialDay:** This value represents the closeness of the browsing date to special days or holidays (eg Mother's Day or Valentine's day) in which the transaction is more likely to be finalized. More information about how this value is calculated below.\n",
    "\n",
    "**Month:** Contains the month the pageview occurred, in string form.\n",
    "\n",
    "**OperatingSystems:** An integer value representing the operating system that the user was on when viewing the page.\n",
    "\n",
    "**Browser:** An integer value representing the browser that the user was using to view the page.\n",
    "\n",
    "**Region:** An integer value representing which region the user is located in.\n",
    "\n",
    "**TrafficType:** An integer value representing what type of traffic the user is categorized into. \n",
    "\n",
    "**VisitorType:** A string representing whether a visitor is New Visitor, Returning Visitor, or Other.\n",
    "\n",
    "**Weekend:** A boolean representing whether the session is on a weekend.\n",
    "\n",
    "**Revenue:** A boolean representing whether or not the user completed the purchase.\n"
   ]
  },
  {
   "cell_type": "markdown",
   "metadata": {},
   "source": [
    "### Necessary Imports"
   ]
  },
  {
   "cell_type": "code",
   "execution_count": null,
   "metadata": {
    "trusted": true
   },
   "outputs": [],
   "source": [
    "# Data Analysis and visualization tools\n",
    "import numpy as np\n",
    "import matplotlib.pyplot as plt\n",
    "%matplotlib inline\n",
    "import pandas as pd\n",
    "import seaborn as sns\n",
    "import plotly as py\n",
    "import plotly.graph_objs as go\n",
    "\n",
    "#statistics tools\n",
    "import statsmodels.api as sm\n",
    "import scipy.stats as st\n",
    "from scipy.stats import shapiro, mannwhitneyu, chi2_contingency\n",
    "\n",
    "#scikit learn framework\n",
    "from sklearn import metrics\n",
    "from sklearn.model_selection import train_test_split\n",
    "from sklearn import svm\n",
    "from sklearn.naive_bayes import GaussianNB\n",
    "\n",
    "import warnings\n",
    "warnings.filterwarnings('ignore')"
   ]
  },
  {
   "cell_type": "code",
   "execution_count": null,
   "metadata": {
    "trusted": true
   },
   "outputs": [],
   "source": [
    "# Reading Database\n",
    "data = pd.read_csv(r'C:\\Users\\Admin\\Desktop\\onlineshopperintention\\shopperinfodb.csv')\n",
    "\n",
    "# shape of the data(number of rows vs number of column)\n",
    "data.shape"
   ]
  },
  {
   "cell_type": "code",
   "execution_count": null,
   "metadata": {
    "trusted": true
   },
   "outputs": [],
   "source": [
    "type(data)"
   ]
  },
  {
   "cell_type": "code",
   "execution_count": null,
   "metadata": {
    "trusted": true
   },
   "outputs": [],
   "source": [
    "# Displaying some rows of the data\n",
    "data.head()"
   ]
  },
  {
   "cell_type": "code",
   "execution_count": null,
   "metadata": {
    "trusted": true
   },
   "outputs": [],
   "source": [
    "# description of the data\n",
    "data.describe()"
   ]
  },
  {
   "cell_type": "code",
   "execution_count": null,
   "metadata": {
    "trusted": true
   },
   "outputs": [],
   "source": [
    "# Null data checking \n",
    "data.isnull().sum()"
   ]
  },
  {
   "cell_type": "code",
   "execution_count": null,
   "metadata": {
    "trusted": true
   },
   "outputs": [],
   "source": [
    "# missing percentage of the data\n",
    "missing_percentage = data.isnull().sum()/data.shape[0]\n",
    "print(missing_percentage)"
   ]
  },
  {
   "cell_type": "markdown",
   "metadata": {},
   "source": [
    "## Revenue"
   ]
  },
  {
   "cell_type": "code",
   "execution_count": null,
   "metadata": {
    "trusted": true
   },
   "outputs": [],
   "source": [
    "data['Revenue'].value_counts()"
   ]
  },
  {
   "cell_type": "code",
   "execution_count": null,
   "metadata": {
    "trusted": true
   },
   "outputs": [],
   "source": [
    "# checking the Distribution of customers on Revenue\n",
    "\n",
    "plt.rcParams['figure.figsize'] = (13, 5)\n",
    "\n",
    "plt.subplot(1, 2, 1)\n",
    "sns.countplot(data['Revenue'], palette = 'pastel')\n",
    "plt.title('Buy or Not', fontsize = 15)\n",
    "plt.xlabel('Revenue or not', fontsize = 15)\n",
    "plt.ylabel('count', fontsize = 15)\n",
    "plt.show()"
   ]
  },
  {
   "cell_type": "markdown",
   "metadata": {},
   "source": [
    "## Weekend"
   ]
  },
  {
   "cell_type": "code",
   "execution_count": null,
   "metadata": {
    "trusted": true
   },
   "outputs": [],
   "source": [
    "data['Weekend'].value_counts()"
   ]
  },
  {
   "cell_type": "code",
   "execution_count": null,
   "metadata": {
    "trusted": true
   },
   "outputs": [],
   "source": [
    "# checking the Distribution of customers on Weekend\n",
    "\n",
    "plt.rcParams['figure.figsize'] = (13,5)\n",
    "plt.subplot(1, 2, 2)\n",
    "sns.countplot(data['Weekend'], palette = 'inferno')\n",
    "plt.title('Puchase on Weekends', fontsize = 30)\n",
    "plt.xlabel('Weekend or not', fontsize = 15)\n",
    "plt.ylabel('count', fontsize = 15)\n",
    "\n",
    "plt.show()"
   ]
  },
  {
   "cell_type": "markdown",
   "metadata": {},
   "source": [
    "**What we observered here?**\n",
    "- From the above information we see that the distribution of `Revenue` and `Weekend` data are hightly imbalanced."
   ]
  },
  {
   "cell_type": "markdown",
   "metadata": {},
   "source": [
    "## Operating Systems"
   ]
  },
  {
   "cell_type": "code",
   "execution_count": null,
   "metadata": {
    "trusted": true
   },
   "outputs": [],
   "source": [
    "# checking the no. of Os's is having\n",
    "data['OperatingSystems'].value_counts()"
   ]
  },
  {
   "cell_type": "code",
   "execution_count": null,
   "metadata": {
    "trusted": true
   },
   "outputs": [],
   "source": [
    "# plotting a pie chart for Operating Systems\n",
    "\n",
    "plt.rcParams['figure.figsize'] = (18, 7)\n",
    "size = [6601, 2585, 2555, 589]\n",
    "colors = ['violet', 'magenta', 'pink', 'blue']\n",
    "labels = \"2\", \"1\", \"3\", \"others\"\n",
    "\n",
    "plt.subplot(1, 2, 2)\n",
    "plt.pie(size, colors = colors, labels = labels, shadow = True, autopct = '%.2f%%', startangle=90)\n",
    "plt.title('Different Operating Systems', fontsize = 30)\n",
    "plt.axis('off')\n",
    "plt.legend()\n",
    "plt.show()\n",
    "\n",
    "\n"
   ]
  },
  {
   "cell_type": "markdown",
   "metadata": {},
   "source": [
    "**What is observation point here?**\n",
    "- Top 3 Operating Systems are covered 95% of this dataset. So we should focus on them to increase our business."
   ]
  },
  {
   "cell_type": "markdown",
   "metadata": {},
   "source": [
    "## Browsers"
   ]
  },
  {
   "cell_type": "code",
   "execution_count": null,
   "metadata": {
    "trusted": true
   },
   "outputs": [],
   "source": [
    "# checking the no. of Browser is having\n",
    "data['Browser'].value_counts()"
   ]
  },
  {
   "cell_type": "code",
   "execution_count": null,
   "metadata": {
    "trusted": true
   },
   "outputs": [],
   "source": [
    "# Ploting a pie chart for operating systems\n",
    "plt.rcParams['figure.figsize'] = (18, 7)\n",
    "\n",
    "size = [7961, 2462, 736, 467,174, 163, 300]\n",
    "colors = ['orange', 'yellow', 'pink', 'crimson', 'lightgreen', 'cyan', 'blue']\n",
    "labels = \"2\", \"1\", \"4\", \"5\", \"6\", \"10\", \"others\"\n",
    "\n",
    "plt.subplot(1, 2, 2)\n",
    "plt.pie(size, colors = colors, labels = labels, shadow = True, autopct = '%.1f%%', startangle = 90)\n",
    "plt.title('Different Browsers', fontsize = 30)\n",
    "plt.axis('off')\n",
    "plt.legend()\n",
    "plt.show()"
   ]
  },
  {
   "cell_type": "markdown",
   "metadata": {},
   "source": [
    "**What is the observation point here?**\n",
    "- 90% users used only top 3 browser. "
   ]
  },
  {
   "cell_type": "markdown",
   "metadata": {},
   "source": [
    "## Month"
   ]
  },
  {
   "cell_type": "code",
   "execution_count": null,
   "metadata": {
    "trusted": true
   },
   "outputs": [],
   "source": [
    "data['Month'].value_counts()"
   ]
  },
  {
   "cell_type": "code",
   "execution_count": null,
   "metadata": {
    "trusted": true
   },
   "outputs": [],
   "source": [
    "# creating a donut chart for the months variations\n",
    "# plotting a pie chart for share of special days\n",
    "size = [3364, 2998, 1907, 1727, 549, 448, 433, 432, 288, 184]\n",
    "colors = ['yellow', 'pink', 'lightblue', 'crimson', 'lightgreen', 'orange', 'cyan', 'magenta', 'violet', 'pink', 'lightblue', 'red']\n",
    "labels = \"May\", \"November\", \"March\", \"December\", \"October\", \"September\", \"August\", \"July\", \"June\", \"February\"\n",
    "explode = [0, 0, 0, 0, 0, 0, 0, 0, 0, 0]\n",
    "\n",
    "circle = plt.Circle((0, 0), 0.6, color = 'white')\n",
    "\n",
    "plt.rcParams['figure.figsize'] = (18, 7)\n",
    "plt.pie(size, colors = colors, labels = labels, explode = explode, shadow = True, autopct = '%.2f%%')\n",
    "plt.title('Month', fontsize = 30)\n",
    "p = plt.gcf()\n",
    "p.gca().add_artist(circle)\n",
    "plt.axis('off')\n",
    "plt.legend()\n",
    "plt.show()"
   ]
  },
  {
   "cell_type": "markdown",
   "metadata": {},
   "source": [
    "## Visitor Type"
   ]
  },
  {
   "cell_type": "code",
   "execution_count": null,
   "metadata": {
    "trusted": true
   },
   "outputs": [],
   "source": [
    "data['VisitorType'].value_counts()"
   ]
  },
  {
   "cell_type": "code",
   "execution_count": null,
   "metadata": {
    "trusted": true
   },
   "outputs": [],
   "source": [
    "# plotting a pie chart for Visitors\n",
    "\n",
    "plt.rcParams['figure.figsize'] = (18, 7)\n",
    "size = [10551, 1694, 85]\n",
    "colors = ['lightGreen', 'green', 'pink']\n",
    "labels = \"Returning Visitor\", \"New Visitor\", \"Others\"\n",
    "explode = [0, 0, 0.1]\n",
    "plt.subplot(1, 2, 1)\n",
    "plt.pie(size, colors = colors, labels = labels, explode = explode, shadow = True, autopct = '%.2f%%')\n",
    "plt.title('Different Visitors', fontsize = 30)\n",
    "plt.axis('off')\n",
    "plt.legend()\n",
    "plt.show()"
   ]
  },
  {
   "cell_type": "markdown",
   "metadata": {},
   "source": [
    "**What is observation point here?**\n",
    "- More than 85% visitors are returning vistors, This is huge. This information may helpful for marketing."
   ]
  },
  {
   "cell_type": "markdown",
   "metadata": {},
   "source": [
    "### Traffic Type"
   ]
  },
  {
   "cell_type": "code",
   "execution_count": null,
   "metadata": {
    "trusted": true
   },
   "outputs": [],
   "source": [
    "data['TrafficType'].value_counts()"
   ]
  },
  {
   "cell_type": "code",
   "execution_count": null,
   "metadata": {
    "trusted": true
   },
   "outputs": [],
   "source": [
    "# visualizing the distribution of different traffic around the TrafficType\n",
    "plt.rcParams['figure.figsize'] = (18, 7)\n",
    "\n",
    "plt.subplot(1, 2, 1)\n",
    "plt.hist(data['TrafficType'], color = 'lightblue')\n",
    "plt.title('Distribution of different Traffic', fontsize = 30)\n",
    "plt.xlabel('TrafficType Codes', fontsize = 15)\n",
    "plt.ylabel('Count', fontsize = 15)\n",
    "plt.grid()\n",
    "plt.show()"
   ]
  },
  {
   "cell_type": "code",
   "execution_count": null,
   "metadata": {
    "trusted": true
   },
   "outputs": [],
   "source": [
    "data['Region'].value_counts()"
   ]
  },
  {
   "cell_type": "code",
   "execution_count": null,
   "metadata": {
    "trusted": true
   },
   "outputs": [],
   "source": [
    "# visualizing the distribution of the users around the Region\n",
    "plt.rcParams['figure.figsize'] = (18, 7)\n",
    "\n",
    "plt.subplot(1, 2, 1)\n",
    "plt.hist(data['Region'], color = 'lightgreen')\n",
    "plt.title('Distribution of users(Customers)', fontsize = 30)\n",
    "plt.xlabel('Region Codes', fontsize = 15)\n",
    "plt.ylabel('Count', fontsize = 15)\n",
    "\n",
    "plt.show()"
   ]
  },
  {
   "cell_type": "code",
   "execution_count": null,
   "metadata": {
    "trusted": true
   },
   "outputs": [],
   "source": [
    "data['SpecialDay'].value_counts()"
   ]
  },
  {
   "cell_type": "code",
   "execution_count": null,
   "metadata": {
    "trusted": true
   },
   "outputs": [],
   "source": [
    "# visualizing the distribution of the users around the SpecialDay\n",
    "plt.rcParams['figure.figsize'] = (18, 7)\n",
    "\n",
    "plt.subplot(1, 2, 1)\n",
    "plt.hist(data['SpecialDay'], color = 'lightblue')\n",
    "plt.title('Distribution of users(Customers)', fontsize = 30)\n",
    "plt.xlabel('SpecialDay', fontsize = 15)\n",
    "plt.ylabel('Count', fontsize = 15)\n",
    "\n",
    "plt.show()"
   ]
  },
  {
   "cell_type": "markdown",
   "metadata": {},
   "source": [
    "### Administrative duration vs Revenue"
   ]
  },
  {
   "cell_type": "markdown",
   "metadata": {},
   "source": [
    "## Informational duration vs Revenue"
   ]
  },
  {
   "cell_type": "markdown",
   "metadata": {},
   "source": [
    "**What is the observation Point here?**\n",
    "- We see here `Informational_Duration` is exponentially distributed for both purchased(`True`) or not puchased(`False`). \n",
    "- We also see there are so many outliers in not puchased(`False`) according to `Informational_Duration`."
   ]
  },
  {
   "cell_type": "markdown",
   "metadata": {},
   "source": [
    "## Weekend vs Revenue"
   ]
  },
  {
   "cell_type": "code",
   "execution_count": null,
   "metadata": {
    "trusted": true
   },
   "outputs": [],
   "source": [
    "# bar plot for weekend vs Revenue\n",
    "df = pd.crosstab(data['Weekend'], data['Revenue'])\n",
    "df.div(df.sum(1).astype(float), axis = 0).plot(kind = 'bar', stacked = True, figsize = (15, 5), color = ['orange', 'crimson'])\n",
    "plt.title('Weekend vs Revenue', fontsize = 30)\n",
    "plt.show()"
   ]
  },
  {
   "cell_type": "markdown",
   "metadata": {},
   "source": [
    "## Traffic Type vs Revenue"
   ]
  },
  {
   "cell_type": "code",
   "execution_count": null,
   "metadata": {
    "trusted": true
   },
   "outputs": [],
   "source": [
    "# bar plot for traffic type vs revenue\n",
    "\n",
    "df = pd.crosstab(data['TrafficType'], data['Revenue'])\n",
    "df.div(df.sum(1).astype(float), axis = 0).plot(kind = 'bar', stacked = True, figsize = (15, 5), color = ['lightblue', 'blue'])\n",
    "plt.title('Traffic Type as Revenue', fontsize = 30)\n",
    "plt.show()"
   ]
  },
  {
   "cell_type": "code",
   "execution_count": null,
   "metadata": {
    "trusted": true
   },
   "outputs": [],
   "source": [
    "# bar plot for visitor type vs revenue\n",
    "df = pd.crosstab(data['VisitorType'], data['Revenue'])\n",
    "df.div(df.sum(1).astype(float), axis=0).plot(kind = 'bar', stacked = True, figsize =(15, 5), color = ['lightgreen', 'green'])\n",
    "plt.title('Visitor Type vs Revenue', fontsize = 30)\n",
    "plt.show()"
   ]
  },
  {
   "cell_type": "code",
   "execution_count": null,
   "metadata": {
    "trusted": true
   },
   "outputs": [],
   "source": [
    "# bar plot for region vs revenue\n",
    "\n",
    "df = pd.crosstab(data['Region'], data['Revenue'])\n",
    "df.div(df.sum(1).astype(float), axis=0).plot(kind = 'bar', stacked = True, figsize = (15, 5), color = ['pink', 'yellow'])\n",
    "plt.title('Region vs Revenue', fontsize = 30)\n",
    "plt.show()"
   ]
  },
  {
   "cell_type": "markdown",
   "metadata": {},
   "source": [
    "**What is the observation Point here?**\n",
    "- We see here `Region` is also a categorical column. \n",
    "- In this visualization, every category is almost similar to others."
   ]
  },
  {
   "cell_type": "code",
   "execution_count": null,
   "metadata": {
    "trusted": true
   },
   "outputs": [],
   "source": [
    "# boxplot for month vs pagevalues w.r.t. revenue\n",
    "plt.rcParams['figure.figsize'] = (10, 7)\n",
    "sns.boxplot(x = data['Month'], y = data['PageValues'], hue = data['Revenue'], palette = 'spring')\n",
    "plt.title('month vs pagevalues w.r.t. revenue', fontsize = 25)\n",
    "plt.show()"
   ]
  },
  {
   "cell_type": "markdown",
   "metadata": {},
   "source": [
    "**What is the observation Point here?**\n",
    "- We see here `Month` vs `PageValues` are normally(Gaussian) distributed when users purchased a product.\n",
    "- There are lots of outlier also here."
   ]
  },
  {
   "cell_type": "markdown",
   "metadata": {},
   "source": [
    "### month vs exitrates w.r.t. revenue"
   ]
  },
  {
   "cell_type": "code",
   "execution_count": null,
   "metadata": {
    "trusted": true
   },
   "outputs": [],
   "source": [
    "# boxplot for month vs exitrates w.r.t. revenue\n",
    "plt.rcParams['figure.figsize'] = (10, 7)\n",
    "sns.boxplot(x = data['Month'], y = data['ExitRates'], hue = data['Revenue'], palette = 'inferno')\n",
    "plt.title('month vs exitrates w.r.t. revenue', fontsize = 25)\n",
    "plt.show()"
   ]
  },
  {
   "cell_type": "markdown",
   "metadata": {},
   "source": [
    "**What is the observation Point here?**\n",
    "- We see here `Month` vs `ExitRates` are normally(Gaussian) distributed for both when users purchased a product or not.\n",
    "- There are lots of outlier also here."
   ]
  },
  {
   "cell_type": "markdown",
   "metadata": {},
   "source": [
    "### month vs bounceRates w.r.t. Revenue"
   ]
  },
  {
   "cell_type": "code",
   "execution_count": null,
   "metadata": {
    "trusted": true
   },
   "outputs": [],
   "source": [
    "# boxplot for month vs bounceRates w.r.t. Revenue\n",
    "plt.rcParams['figure.figsize'] = (10, 7)\n",
    "\n",
    "sns.boxplot(x = data['Month'], y = data['BounceRates'], hue = data['Revenue'], palette = 'autumn')\n",
    "plt.title(\"month vs bounceRates w.r.t. Revenue\", fontsize = 25)\n",
    "plt.show()"
   ]
  },
  {
   "cell_type": "markdown",
   "metadata": {},
   "source": [
    "**What is the observation Point here?**\n",
    "- We see here `Month` vs `BounceRates` are normally(Gaussian) distributed when users purchased a product for some `Month` but some them are exponentially distributed.\n",
    "- There are lots of outlier also here."
   ]
  },
  {
   "cell_type": "markdown",
   "metadata": {},
   "source": [
    "## VisitorType vs BounceRates w.r.t. revenue"
   ]
  },
  {
   "cell_type": "code",
   "execution_count": null,
   "metadata": {
    "trusted": true
   },
   "outputs": [],
   "source": [
    "# boxplot for visitorType vs BounceRates w.r.t. revenue\n",
    "plt.rcParams['figure.figsize'] = (10, 7)\n",
    "\n",
    "sns.boxplot(x = data['VisitorType'], y = data['BounceRates'], hue = data['Revenue'], palette = 'pastel')\n",
    "plt.title('visitor type vs BounceRates w.r.t. revenue', fontsize = 25)\n",
    "plt.show()"
   ]
  },
  {
   "cell_type": "markdown",
   "metadata": {},
   "source": [
    "**What is the observation Point here?**\n",
    "- We see here `VisitorType` vs `BounceRates` are normally(Gaussian) distributed when Returning_users purchased a product but New_users and others are exponentially distributed.\n",
    "- There are lots of outlier also here."
   ]
  },
  {
   "cell_type": "markdown",
   "metadata": {},
   "source": [
    "## visitor type vs exit rates w.r.t. revenue"
   ]
  },
  {
   "cell_type": "code",
   "execution_count": null,
   "metadata": {
    "trusted": true
   },
   "outputs": [],
   "source": [
    "# violin plot for visitor type vs exit rates wrt revenue\n",
    "plt.rcParams['figure.figsize'] = (10, 7)\n",
    "\n",
    "sns.violinplot(x = data['VisitorType'], y = data['ExitRates'], hue = data['Revenue'], palette = 'Purples')\n",
    "plt.title('visitor type vs exit rates w.r.t. revenue', fontsize = 25)\n",
    "plt.show()"
   ]
  },
  {
   "cell_type": "markdown",
   "metadata": {},
   "source": [
    "**What is the observation Point here?**\n",
    "- We see here `VisitorType` vs `PageValues` are exponentially distributed when users purchased a product or not.\n",
    "- There are lots of outlier for Returning_Visitors."
   ]
  },
  {
   "cell_type": "markdown",
   "metadata": {},
   "source": [
    "## region vs pagevalues w.r.t. revenue"
   ]
  },
  {
   "cell_type": "code",
   "execution_count": null,
   "metadata": {
    "trusted": true
   },
   "outputs": [],
   "source": [
    "# violin plot for region vs pagevalues w.r.t. revenue\n",
    "plt.rcParams['figure.figsize'] = (10, 7)\n",
    "\n",
    "sns.violinplot(x = data ['Region'], y = data['PageValues'], hue = data['Revenue'])\n",
    "plt.title('region vs pagevalues w.r.t. revenue', fontsize = 25)\n",
    "plt.show()\n"
   ]
  },
  {
   "cell_type": "markdown",
   "metadata": {},
   "source": [
    "**What is the observation Point here?**\n",
    "- We see here `Region` vs `PageValues` are exponentially distributed when users purchased a product or not.\n",
    "- There are lots of outlier also here."
   ]
  },
  {
   "cell_type": "markdown",
   "metadata": {},
   "source": [
    "### Summary table of multivariate Feature Analysis"
   ]
  },
  {
   "cell_type": "code",
   "execution_count": null,
   "metadata": {
    "trusted": true
   },
   "outputs": [],
   "source": [
    "multivariate_feature_analysis = [\n",
    "    ['month vs pagevalues', 'Revenue', 'Gaussian', 'High', 'Low', 'Low', 'High'],\n",
    "    ['month vs exitrates' , 'Revenue', 'Gaussian', 'Low', 'High', 'Medium', 'Medium'],\n",
    "    ['month vs bounceRates' , 'Revenue', 'Gaussian', 'Low', 'High', 'Medium', 'High'],\n",
    "    ['visitor type vs BounceRates' , 'Revenue', 'Exponential', 'Low', 'High', 'Low', 'High'],\n",
    "    ['visitor type vs exit rates' , 'Revenue', 'Exponential', 'Low', 'High', 'High', 'Medium'],\n",
    "    ['visitor type vs exit rates', 'Revenue', 'Exponential', 'High', 'Low', 'High', 'Medium'],\n",
    "    ['region vs pagevalues', 'Revenue', 'Exponential', 'Low', 'High', 'High', 'High'],\n",
    "    ['rigion vs exit rates', 'Revenue', 'Gaussian', 'High', 'High', 'High', 'Medium'] \n",
    "]\n",
    "feature_summary = pd.DataFrame(multivariate_feature_analysis, columns=['Multivariate_features', 'W.R.T', 'Distribution', 'Revenue_True', 'Revenue_False', 'Outliers', 'Importance'])\n",
    "feature_summary"
   ]
  },
  {
   "cell_type": "markdown",
   "metadata": {},
   "source": [
    "## Statistical Tests\n",
    "- categorical column vs target column\n",
    "- Numerical column vs target column"
   ]
  },
  {
   "cell_type": "markdown",
   "metadata": {},
   "source": [
    "### categorical column vs target column"
   ]
  },
  {
   "cell_type": "code",
   "execution_count": null,
   "metadata": {
    "trusted": true
   },
   "outputs": [],
   "source": [
    "cat_cols=['Administrative','Informational','ProductRelated','Month','OperatingSystems', 'Browser', 'Region', 'TrafficType', 'VisitorType',\n",
    "       'Weekend', 'SpecialDay']"
   ]
  },
  {
   "cell_type": "markdown",
   "metadata": {},
   "source": [
    "### Numerical Column vs Target"
   ]
  },
  {
   "cell_type": "code",
   "execution_count": null,
   "metadata": {
    "trusted": true
   },
   "outputs": [],
   "source": [
    "numerical_columns=['Administrative_Duration','Informational_Duration','ProductRelated_Duration','BounceRates', 'ExitRates', 'PageValues']"
   ]
  },
  {
   "cell_type": "markdown",
   "metadata": {},
   "source": [
    "## Outliers"
   ]
  },
  {
   "cell_type": "code",
   "execution_count": null,
   "metadata": {
    "trusted": true
   },
   "outputs": [],
   "source": [
    "plt.figure(figsize=(62, 20))\n",
    "data.boxplot();"
   ]
  },
  {
   "cell_type": "code",
   "execution_count": null,
   "metadata": {
    "trusted": true
   },
   "outputs": [],
   "source": [
    "# Imputing Missing Values with 0\n",
    "data.fillna(0, inplace = True)\n",
    "\n",
    "#checking the no. of null values after imputing\n",
    "data.isnull().sum().sum()"
   ]
  },
  {
   "cell_type": "markdown",
   "metadata": {},
   "source": [
    "## Administrative Duration vs Bounce Rates"
   ]
  },
  {
   "cell_type": "code",
   "execution_count": null,
   "metadata": {
    "trusted": true
   },
   "outputs": [],
   "source": [
    "# Time spent by the Users on website vs Bounce Rates\n",
    "# let's cluster Administrative duration and bounce Rates to different types of clusters in the dataset.\n",
    "# preparing the dataset\n",
    "x = data.iloc[:, [1, 6]].values\n",
    "\n",
    "# checking the shape of the dataset\n",
    "print(\"Shape of the dataset: \", x.shape)\n",
    "\n",
    "from sklearn.cluster import KMeans\n",
    "\n",
    "wcss = []\n",
    "for i in range(1, 11):\n",
    "    km = KMeans(n_clusters = i,\n",
    "               init = 'k-means++',\n",
    "               max_iter = 200,\n",
    "               n_init = 10, \n",
    "               random_state = 0,\n",
    "               algorithm = 'elkan',\n",
    "               tol = 0.001)\n",
    "    km.fit(x)\n",
    "    labels = km.labels_\n",
    "    wcss.append(km.inertia_)\n",
    "    \n",
    "plt.rcParams['figure.figsize'] = (15, 7)\n",
    "plt.plot(range(1, 11), wcss)\n",
    "plt.grid()\n",
    "plt.tight_layout()\n",
    "plt.xlabel('No. of Clusters')\n",
    "plt.ylabel('within-cluster sum of square')\n",
    "plt.show()"
   ]
  },
  {
   "cell_type": "markdown",
   "metadata": {},
   "source": [
    "**What is the observation point here?**\n",
    "- According to the above plot, the maximum bend at index 3, that is number of optimal no. of Clusters for Administrative Duration and Revenue is 3. Let's go the next step, i.e., Plotting the Clusters.\n"
   ]
  },
  {
   "cell_type": "markdown",
   "metadata": {},
   "source": [
    "### Visualizing the Cluster using scatter plot"
   ]
  },
  {
   "cell_type": "code",
   "execution_count": null,
   "metadata": {
    "trusted": true
   },
   "outputs": [],
   "source": [
    "km = KMeans(n_clusters = 3, init = 'k-means++', max_iter = 200, n_init = 10, random_state = 0)\n",
    "y_means = km.fit_predict(x)\n",
    "\n",
    "plt.scatter(x[y_means == 0, 0], x[y_means == 0, 1], s = 100, c = 'orange', label = 'Un-interested Customers')\n",
    "plt.scatter(x[y_means == 1, 0], x[y_means == 1, 1], s = 100, c = 'red', label = 'General Customers')\n",
    "plt.scatter(x[y_means == 2, 0], x[y_means == 2, 1], s = 100, c = 'cyan', label = 'Target Customers')\n",
    "plt.scatter(km.cluster_centers_[:, 0], km.cluster_centers_[:, 1], s = 50, c = 'blue', label = 'centeroid')\n",
    "\n",
    "plt.title('Administrative Duration vs BounceRates', fontsize = 20)\n",
    "plt.grid()\n",
    "plt.xlabel('Administrative Duration')\n",
    "plt.ylabel('Bounce Rates')\n",
    "plt.legend()\n",
    "plt.show()"
   ]
  },
  {
   "cell_type": "markdown",
   "metadata": {},
   "source": [
    "**What is the observation point here?**\n",
    "- We see at this clustering plot, we can confidently say that the customers who spent a longer administrative duration in a website are very less likely to bounce from the website that is nevigating away from the website just after navigating one page of that website.\n",
    "- There are Three groups, The Pink group is a group of customers who stay for shortest administrative duration and have highest chance for Navigating away from a website.\n"
   ]
  },
  {
   "cell_type": "markdown",
   "metadata": {},
   "source": [
    "## Informational Duration vs Bounce Rates"
   ]
  },
  {
   "cell_type": "code",
   "execution_count": null,
   "metadata": {
    "trusted": true
   },
   "outputs": [],
   "source": [
    "# cluster anaysis of Informational Duration vs Bounce Rates\n",
    "x = data.iloc[:, [3, 6]].values\n",
    "\n",
    "wcss = []\n",
    "for i in range(1, 11):\n",
    "    km = KMeans(n_clusters = i,\n",
    "                init = 'k-means++',\n",
    "                max_iter = 200,\n",
    "                n_init = 10,\n",
    "                random_state = 0,\n",
    "                algorithm = 'elkan',\n",
    "                tol = 0.001)\n",
    "    km.fit(x)\n",
    "    labels = km.labels_\n",
    "    wcss.append(km.inertia_)\n",
    "    \n",
    "plt.rcParams['figure.figsize'] = (15, 7)\n",
    "plt.plot(range(1, 11), wcss)\n",
    "plt.grid()\n",
    "plt.tight_layout()\n",
    "plt.title('The Elbow Method', fontsize = 20)\n",
    "plt.xlabel('No. of Clusters')\n",
    "plt.ylabel('within-cluster sum of square')\n",
    "plt.show()"
   ]
  },
  {
   "cell_type": "markdown",
   "metadata": {},
   "source": [
    "**What is the observation point here?**\n",
    "- According to the above plot, the maximum bend at index 2, that is number of optimal no. of Clusters for Informational Duration and Revenue is 2. Let's go the next step, i.e., Plotting the Clusters.\n"
   ]
  },
  {
   "cell_type": "code",
   "execution_count": null,
   "metadata": {
    "trusted": true
   },
   "outputs": [],
   "source": [
    "km = KMeans(n_clusters = 2, init = 'k-means++', max_iter = 200, n_init = 10, random_state = 0)\n",
    "y_means = km.fit_predict(x)\n",
    "\n",
    "plt.scatter(x[y_means == 0, 0], x[y_means == 0, 1], s = 100, c = 'pink', label = 'Un-interested Customers')\n",
    "plt.scatter(x[y_means == 1, 0], x[y_means == 1, 1], s = 100, c = 'cyan', label = 'Target Customers')\n",
    "plt.scatter(km.cluster_centers_[:,0], km.cluster_centers_[:, 1], s = 50, c = 'blue' , label = 'centeroid')\n",
    "\n",
    "plt.title('Informational Duration vs Bounce Rates', fontsize = 20)\n",
    "plt.grid()\n",
    "plt.xlabel('Informational Duration')\n",
    "plt.ylabel('Bounce Rates')\n",
    "plt.legend()\n",
    "plt.show()"
   ]
  },
  {
   "cell_type": "markdown",
   "metadata": {},
   "source": [
    "**What is the observation point here?**\n",
    "- We see at this clustering plot, we can confidently say that the customers who spent a longer Informational duration in a website are very less likely to bounce from the website that is nevigating away from the website just after navigating one page of that website.\n",
    "- There are Two groups, The Pink group is a group of customers who stay for shortest Informational duration and have highest chance for Navigating away from a website.\n"
   ]
  },
  {
   "cell_type": "code",
   "execution_count": null,
   "metadata": {
    "trusted": true
   },
   "outputs": [],
   "source": [
    "km = KMeans(n_clusters = 3, init = 'k-means++', max_iter = 200, n_init = 10, random_state = 0)\n",
    "y_means = km.fit_predict(x)\n",
    "\n",
    "plt.scatter(x[y_means == 0, 0], x[y_means == 0, 1], s = 100, c = 'magenta', label = 'Un-interested Customers')\n",
    "plt.scatter(x[y_means == 1, 0], x[y_means == 1, 1], s = 100, c = 'cyan', label = 'General Customers')\n",
    "plt.scatter(x[y_means == 2, 0], x[y_means == 2, 1], s = 100, c = 'pink', label = 'Target Customers')\n",
    "plt.scatter(km.cluster_centers_[:,0], km.cluster_centers_[:, 1], s = 50, c = 'blue', label = 'centroid')\n",
    "\n",
    "plt.title('Administrative Clustering vs Exit Rates', fontsize = 20)\n",
    "plt.grid()\n",
    "plt.xlabel('Administrative Duration')\n",
    "plt.ylabel('Exit Rates')\n",
    "plt.legend()\n",
    "plt.show()"
   ]
  },
  {
   "cell_type": "markdown",
   "metadata": {},
   "source": [
    "**What is the observation point here?**\n",
    "- We see at this clustering plot, we can confidently say that the customers who spent a longer Administrative duration in a website are very less likely to Exit from the website that is nevigating away from the website.\n",
    "- There are Three groups, The Magenta group is a group of customers who stay for shortest Administrative duration and have highest chance for Navigating away from a website.\n"
   ]
  },
  {
   "cell_type": "markdown",
   "metadata": {},
   "source": [
    "## Where from the Users of the Website come?"
   ]
  },
  {
   "cell_type": "markdown",
   "metadata": {},
   "source": [
    "## Region vs Traffic Type"
   ]
  },
  {
   "cell_type": "code",
   "execution_count": null,
   "metadata": {
    "trusted": true
   },
   "outputs": [],
   "source": [
    "# Region vs TrafficType clustering\n",
    "x = data.iloc[:, [13, 14]].values\n",
    "\n",
    "wcss = []\n",
    "for i in range(1, 11):\n",
    "    km = KMeans(n_clusters = i,\n",
    "                init = 'k-means++',\n",
    "                max_iter = 200,\n",
    "                n_init = 10,\n",
    "                random_state = 0,\n",
    "                algorithm = 'elkan',\n",
    "                tol = 0.001)\n",
    "    km.fit(x)\n",
    "    labels = km.labels_\n",
    "    wcss.append(km.inertia_)\n",
    "    \n",
    "plt.rcParams['figure.figsize'] = (15, 7)\n",
    "plt.plot(range(1, 11), wcss)\n",
    "plt.grid()\n",
    "plt.tight_layout()\n",
    "plt.title('The Elbow Method', fontsize = 20)\n",
    "plt.xlabel('No. of Cluster')\n",
    "plt.ylabel('within cluster sum of the square')\n",
    "plt.show()"
   ]
  },
  {
   "cell_type": "markdown",
   "metadata": {},
   "source": [
    "**What is the observation point here?**\n",
    "- According to the above plot, the maximum bend at index 2, that is number of optimal no. of Clusters for Region and Traffic Type is 2. Let's go the next step, i.e., Plotting the Clusters.\n"
   ]
  },
  {
   "cell_type": "code",
   "execution_count": null,
   "metadata": {
    "trusted": true
   },
   "outputs": [],
   "source": [
    "km = KMeans(n_clusters = 2, init = 'k-means++', max_iter = 200, n_init = 10, random_state = 0)\n",
    "y_means = km.fit_predict(x)\n",
    "\n",
    "plt.scatter(x[y_means == 0, 0], x[y_means == 0, 1], s = 100, c = 'pink', label = 'Un-iterested customers')\n",
    "plt.scatter(x[y_means == 1, 0], x[y_means == 1, 1], s = 100, c = 'lightgreen', label = 'Target Customers')\n",
    "plt.scatter(km.cluster_centers_[:, 0], km.cluster_centers_[:, 1], s = 50, c = 'blue', label = 'centroid')\n",
    "\n",
    "plt.title('Region vs Traffic Type', fontsize = 20)\n",
    "plt.xlabel('Region')\n",
    "plt.ylabel('Traffic')\n",
    "plt.legend()\n",
    "plt.grid()\n",
    "plt.show()"
   ]
  },
  {
   "cell_type": "markdown",
   "metadata": {},
   "source": [
    "**What is the observation point here?**\n",
    "- We see at this clustering plot, we can say that the customers who is from Region 2, 4, 5 have less traffic than others."
   ]
  },
  {
   "cell_type": "markdown",
   "metadata": {},
   "source": [
    "## Adminstrative Duration vs Region"
   ]
  },
  {
   "cell_type": "code",
   "execution_count": null,
   "metadata": {
    "trusted": true
   },
   "outputs": [],
   "source": [
    "# administrative duration vs bounce rates\n",
    "x = data.iloc[:, [1, 13]].values\n",
    "\n",
    "wcss = []\n",
    "for i in range(1, 11):\n",
    "    km = KMeans(n_clusters = i,\n",
    "                init = 'k-means++',\n",
    "                max_iter = 300,\n",
    "                n_init = 10,\n",
    "                random_state = 0,\n",
    "                algorithm = 'elkan',\n",
    "                tol = 0.001)\n",
    "    km.fit(x)\n",
    "    labels = km.labels_\n",
    "    wcss.append(km.inertia_)\n",
    "    \n",
    "plt.rcParams['figure.figsize'] = (15, 7)\n",
    "plt.plot(range(1, 11), wcss)\n",
    "plt.grid()\n",
    "plt.tight_layout()\n",
    "plt.title('The Elbow Method', fontsize = 20)\n",
    "plt.xlabel('No. of Clusters')\n",
    "plt.ylabel('Within cluster sum of the square')\n",
    "plt.show()"
   ]
  },
  {
   "cell_type": "markdown",
   "metadata": {},
   "source": [
    "**What is the observation point here?**\n",
    "- According to the above plot, the maximum bend at index 2, that is number of optimal no. of Clusters for Administrative Duration and Region is 2. Let's go the next step, i.e., Plotting the Clusters.\n"
   ]
  },
  {
   "cell_type": "code",
   "execution_count": null,
   "metadata": {
    "trusted": true
   },
   "outputs": [],
   "source": [
    "km = KMeans(n_clusters = 2, init = 'k-means++', max_iter = 300, n_init = 10, random_state = 0)\n",
    "y_means = km.fit_predict(x)\n",
    "\n",
    "plt.scatter(x[y_means == 0, 0], x[y_means == 0, 1], s = 100, c = 'cyan', label = 'Unproductive Customers')\n",
    "plt.scatter(x[y_means == 1, 0], x[y_means == 1, 1], s = 100, c = 'magenta', label = 'Target Customers')\n",
    "plt.scatter(km.cluster_centers_[:,0], km.cluster_centers_[:, 1], s = 50, c = 'blue' , label = 'centeroid')\n",
    "\n",
    "plt.title('Adminstrative Duration vs Region', fontsize = 20)\n",
    "plt.grid()\n",
    "plt.xlabel('Administrative Duration')\n",
    "plt.ylabel('Region Type')\n",
    "plt.legend()\n",
    "plt.show()"
   ]
  },
  {
   "cell_type": "markdown",
   "metadata": {},
   "source": [
    "**What is the observation point here?**\n",
    "- We see at this clustering plot, we can confidently say that the customers who spent a longer Administrative duration in a website are very less likely comers from 2, 4 Region Type."
   ]
  },
  {
   "cell_type": "markdown",
   "metadata": {},
   "source": [
    "# Data Preprocessing\n",
    "- One Hot and Label Encoding"
   ]
  },
  {
   "cell_type": "code",
   "execution_count": null,
   "metadata": {
    "trusted": true
   },
   "outputs": [],
   "source": [
    "data.info()"
   ]
  },
  {
   "cell_type": "code",
   "execution_count": null,
   "metadata": {
    "scrolled": true,
    "trusted": true
   },
   "outputs": [],
   "source": [
    "# one hot encoding\n",
    "df1 = pd.get_dummies(data)\n",
    "df1.head()"
   ]
  },
  {
   "cell_type": "code",
   "execution_count": null,
   "metadata": {
    "trusted": true
   },
   "outputs": [],
   "source": [
    "df1.info()"
   ]
  },
  {
   "cell_type": "code",
   "execution_count": null,
   "metadata": {
    "trusted": true
   },
   "outputs": [],
   "source": [
    "# Label encoding of revenue\n",
    "from sklearn.preprocessing import LabelEncoder\n",
    "le = LabelEncoder()\n",
    "df1['Revenue'] = le.fit_transform(df1['Revenue'])\n",
    "df1['Revenue'].value_counts()"
   ]
  },
  {
   "cell_type": "code",
   "execution_count": null,
   "metadata": {
    "trusted": true
   },
   "outputs": [],
   "source": [
    "df1['Weekend'].value_counts()"
   ]
  },
  {
   "cell_type": "code",
   "execution_count": null,
   "metadata": {
    "scrolled": true,
    "trusted": true
   },
   "outputs": [],
   "source": [
    "precision = ['Naive Bayes', 'precision', 0.91, 0.42]\n",
    "recall = ['Naive Bayes', 'recall', 0.83, 0.61]\n",
    "f1_score = ['Naive Bayes', 'f1_score', 0.87, 0.50 ]\n",
    "precision2 = ['Support Vector Machine', 'precision', 0.83, 0.00 ]\n",
    "recall2 = ['Support Vector Machine', 'recall', 1.0, 0.00 ]\n",
    "f1_score2 = ['Support Vector Machine', 'f1_score', 0.91, 0.00 ]\n",
    "table = pd.DataFrame([precision, precision2, recall, recall2, f1_score, f1_score2])\n",
    "table.columns = ['model_name', 'metrics', 'Is_Revenue(False)', 'Is_Revenue(True)']\n",
    "table"
   ]
  },
  {
   "cell_type": "code",
   "execution_count": null,
   "metadata": {
    "trusted": true
   },
   "outputs": [],
   "source": [
    "table.hist()"
   ]
  },
  {
   "cell_type": "markdown",
   "metadata": {},
   "source": [
    "THE END "
   ]
  }
 ],
 "metadata": {
  "kernelspec": {
   "display_name": "Python 3",
   "language": "python",
   "name": "python3"
  },
  "language_info": {
   "codemirror_mode": {
    "name": "ipython",
    "version": 3
   },
   "file_extension": ".py",
   "mimetype": "text/x-python",
   "name": "python",
   "nbconvert_exporter": "python",
   "pygments_lexer": "ipython3",
   "version": "3.11.5"
  }
 },
 "nbformat": 4,
 "nbformat_minor": 4
}
